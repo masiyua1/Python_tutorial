{
 "cells": [
  {
   "cell_type": "markdown",
   "metadata": {},
   "source": [
    "## An example of a diffusion network"
   ]
  },
  {
   "cell_type": "markdown",
   "metadata": {},
   "source": [
    "#### First, import required modules  and load the data"
   ]
  },
  {
   "cell_type": "code",
   "execution_count": 1,
   "metadata": {},
   "outputs": [
    {
     "name": "stdout",
     "output_type": "stream",
     "text": [
      "\n",
      "time: \n",
      "2020-01-14 16:17'\n",
      "\n",
      "day: \n",
      "20200114\n",
      "\n",
      "time: \n",
      "202001141617\n",
      "\n",
      "time: \n",
      "2020-01-14 16:19'\n",
      "\n",
      "day: \n",
      "20200114\n",
      "\n",
      "time: \n",
      "202001141619\n",
      "\n",
      "time: \n",
      "2020-01-14 16:19'\n",
      "\n",
      "day: \n",
      "20200114\n",
      "\n",
      "time: \n",
      "202001141619\n",
      "\n",
      "time: \n",
      "2020-01-15 19:22'\n",
      "\n",
      "day: \n",
      "20200115\n",
      "\n",
      "time: \n",
      "202001151922\n",
      "\n",
      "time: \n",
      "2020-01-16 08:58'\n",
      "\n",
      "day: \n",
      "20200116\n",
      "\n",
      "time: \n",
      "202001160858\n",
      "\n",
      "time: \n",
      "2020-01-16 20:31'\n",
      "\n",
      "day: \n",
      "20200116\n",
      "\n",
      "time: \n",
      "202001162031\n"
     ]
    }
   ],
   "source": [
    "import matplotlib as mpl\n",
    "import matplotlib.patches\n",
    "import matplotlib.pyplot as plt\n",
    "import networkx as nx \n",
    "import numpy\n",
    "import numpy as np\n",
    "%matplotlib inline\n",
    "\n",
    "with open('../data/data2.csv', 'r') as f:\n",
    "    rt_time = []\n",
    "    for line in f:\n",
    "        time= line.strip().split(',')[-1]\n",
    "        print('\\ntime: ')\n",
    "        print (time)\n",
    "        \n",
    "        day = time[0:4] + time[5:7] + time[8:10]\n",
    "        print('\\nday: ')\n",
    "        print (day)\n",
    "       \n",
    "        #hms= time[9:17].replace(':', '')\n",
    "        hm = time[11:16].replace(':','')\n",
    "        time = int(day + hm)\n",
    "        print('\\ntime: ')\n",
    "        print(time)\n",
    "\n",
    "        rt_time.append(time)\n"
   ]
  },
  {
   "cell_type": "markdown",
   "metadata": {},
   "source": [
    "#### Next, count the time lag and convert into a graph"
   ]
  },
  {
   "cell_type": "code",
   "execution_count": 2,
   "metadata": {},
   "outputs": [],
   "source": [
    "array = numpy.array(rt_time)\n",
    "order = array.argsort()\n",
    "ranks = order.argsort()\n",
    "G = nx.DiGraph()"
   ]
  },
  {
   "cell_type": "markdown",
   "metadata": {},
   "source": [
    "#### Compute a few metrics, like degree, closeness, betweenness, and shortest path length"
   ]
  },
  {
   "cell_type": "code",
   "execution_count": 3,
   "metadata": {},
   "outputs": [
    {
     "name": "stdout",
     "output_type": "stream",
     "text": [
      "Edges: \n",
      "(('name=Tom', 'name=CDCGOV'), ('name=Alice', 'name=CDCGOV'), ('name=Mike', 'name=CDCGOV'), ('name=Sue', 'name=Alice'), ('name=Dan', 'name=Alice'), ('name=Lisa', 'name=Alice'))\n",
      "Number of Edges: \n",
      "6\n",
      "Degree: \n",
      "{'name=Tom': 1, 'name=CDCGOV': 3, 'name=Alice': 4, 'name=Mike': 1, 'name=Sue': 1, 'name=Dan': 1, 'name=Lisa': 1}\n"
     ]
    }
   ],
   "source": [
    "with open('../data/data2.csv', 'r') as f:\n",
    "    for position, line in enumerate(f):\n",
    "        uid, rtuid= line.strip().split(',')[:-1]\n",
    "        G.add_edge(uid, rtuid, time = ranks[position])\n",
    "        \n",
    "edges,colors = zip(*nx.get_edge_attributes(G,'time').items())\n",
    "G = G.to_directed()\n",
    "\n",
    "# Edges\n",
    "print('Edges: ')\n",
    "print(edges)\n",
    "\n",
    "print('Number of Edges: ')\n",
    "print (G.number_of_edges()) \n",
    "\n",
    "# Degree\n",
    "degree = G.degree() \n",
    "print('Degree: ')\n",
    "print(degree)\n",
    "\n",
    "# SPL\n",
    "path_length = nx.all_pairs_shortest_path_length(G)\n",
    "\n",
    "# Closeness\n",
    "closenesss = nx.closeness_centrality(G)\n",
    "\n",
    "# Betweenness\n",
    "betweenness = nx.betweenness_centrality(G)"
   ]
  },
  {
   "cell_type": "markdown",
   "metadata": {},
   "source": [
    "### Plot the graph"
   ]
  },
  {
   "cell_type": "code",
   "execution_count": 15,
   "metadata": {},
   "outputs": [
    {
     "ename": "AttributeError",
     "evalue": "module 'matplotlib.pyplot' has no attribute 'ishold'",
     "output_type": "error",
     "traceback": [
      "\u001b[1;31m---------------------------------------------------------------------------\u001b[0m",
      "\u001b[1;31mAttributeError\u001b[0m                            Traceback (most recent call last)",
      "\u001b[1;32m<ipython-input-15-29629692d4dc>\u001b[0m in \u001b[0;36m<module>\u001b[1;34m()\u001b[0m\n\u001b[0;32m     12\u001b[0m         \u001b[0medge_color\u001b[0m  \u001b[1;33m=\u001b[0m \u001b[1;34m'gray'\u001b[0m\u001b[1;33m,\u001b[0m\u001b[1;33m\u001b[0m\u001b[0m\n\u001b[0;32m     13\u001b[0m         \u001b[0mwidth\u001b[0m       \u001b[1;33m=\u001b[0m \u001b[1;36m1.0\u001b[0m\u001b[1;33m,\u001b[0m\u001b[1;33m\u001b[0m\u001b[0m\n\u001b[1;32m---> 14\u001b[1;33m         \u001b[0mwith_labels\u001b[0m \u001b[1;33m=\u001b[0m \u001b[1;32mTrue\u001b[0m\u001b[1;33m,\u001b[0m\u001b[1;33m\u001b[0m\u001b[0m\n\u001b[0m\u001b[0;32m     15\u001b[0m       \u001b[1;31m#  arrows      = True,\u001b[0m\u001b[1;33m\u001b[0m\u001b[1;33m\u001b[0m\u001b[0m\n\u001b[0;32m     16\u001b[0m       \u001b[1;31m#  arrowstyle  = '->'\u001b[0m\u001b[1;33m\u001b[0m\u001b[1;33m\u001b[0m\u001b[0m\n",
      "\u001b[1;32m~\\Anaconda3\\lib\\site-packages\\networkx\\drawing\\nx_pylab.py\u001b[0m in \u001b[0;36mdraw\u001b[1;34m(G, pos, ax, hold, **kwds)\u001b[0m\n\u001b[0;32m    124\u001b[0m     \u001b[1;32mif\u001b[0m \u001b[1;34m'with_labels'\u001b[0m \u001b[1;32mnot\u001b[0m \u001b[1;32min\u001b[0m \u001b[0mkwds\u001b[0m\u001b[1;33m:\u001b[0m\u001b[1;33m\u001b[0m\u001b[0m\n\u001b[0;32m    125\u001b[0m         \u001b[0mkwds\u001b[0m\u001b[1;33m[\u001b[0m\u001b[1;34m'with_labels'\u001b[0m\u001b[1;33m]\u001b[0m \u001b[1;33m=\u001b[0m \u001b[1;34m'labels'\u001b[0m \u001b[1;32min\u001b[0m \u001b[0mkwds\u001b[0m\u001b[1;33m\u001b[0m\u001b[0m\n\u001b[1;32m--> 126\u001b[1;33m     \u001b[0mb\u001b[0m \u001b[1;33m=\u001b[0m \u001b[0mplt\u001b[0m\u001b[1;33m.\u001b[0m\u001b[0mishold\u001b[0m\u001b[1;33m(\u001b[0m\u001b[1;33m)\u001b[0m\u001b[1;33m\u001b[0m\u001b[0m\n\u001b[0m\u001b[0;32m    127\u001b[0m     \u001b[1;31m# allow callers to override the hold state by passing hold=True|False\u001b[0m\u001b[1;33m\u001b[0m\u001b[1;33m\u001b[0m\u001b[0m\n\u001b[0;32m    128\u001b[0m     \u001b[0mh\u001b[0m \u001b[1;33m=\u001b[0m \u001b[0mkwds\u001b[0m\u001b[1;33m.\u001b[0m\u001b[0mpop\u001b[0m\u001b[1;33m(\u001b[0m\u001b[1;34m'hold'\u001b[0m\u001b[1;33m,\u001b[0m \u001b[1;32mNone\u001b[0m\u001b[1;33m)\u001b[0m\u001b[1;33m\u001b[0m\u001b[0m\n",
      "\u001b[1;31mAttributeError\u001b[0m: module 'matplotlib.pyplot' has no attribute 'ishold'"
     ]
    },
    {
     "data": {
      "image/png": "[encoded data removed]",
      "text/plain": [
       "<Figure size 432x432 with 1 Axes>"
      ]
     },
     "metadata": {},
     "output_type": "display_data"
    }
   ],
   "source": [
    "pos = nx.spring_layout(G) #set up a network\n",
    "\n",
    "fig = plt.figure(figsize=(6, 6), facecolor='white')\n",
    "\n",
    "nx.draw(G, pos, \n",
    "       # nodelist    = list(dict(G.degree).keys()),\n",
    "       # node_size   = [v*40 for v in dict(G.degree).values()], \n",
    "        node_color  = 'red',         \n",
    "        node_shape  = 'o', \n",
    "        cmap        = plt.cm.gray,\n",
    "        edgelist    = edges, \n",
    "        edge_color  = 'gray', \n",
    "        width       = 1.0,\n",
    "        with_labels = True, \n",
    "        arrows      = True, \n",
    "        arrowstyle  = '->'\n",
    "       )\n",
    "\n",
    "plt.title(\"A twitter social network\")\n",
    "plt.show()"
   ]
  },
  {
   "cell_type": "code",
   "execution_count": null,
   "metadata": {},
   "outputs": [],
   "source": []
  }
 ],
 "metadata": {
  "kernelspec": {
   "display_name": "Python 3",
   "language": "python",
   "name": "python3"
  },
  "language_info": {
   "codemirror_mode": {
    "name": "ipython",
    "version": 3
   },
   "file_extension": ".py",
   "mimetype": "text/x-python",
   "name": "python",
   "nbconvert_exporter": "python",
   "pygments_lexer": "ipython3",
   "version": "3.6.5"
  }
 },
 "nbformat": 4,
 "nbformat_minor": 2
}
