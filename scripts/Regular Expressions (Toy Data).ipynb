{
 "cells": [
  {
   "cell_type": "markdown",
   "metadata": {},
   "source": [
    "### Regular Expressions"
   ]
  },
  {
   "cell_type": "code",
   "execution_count": 1,
   "metadata": {},
   "outputs": [],
   "source": [
    "import re"
   ]
  },
  {
   "cell_type": "markdown",
   "metadata": {},
   "source": [
    "#### example data "
   ]
  },
  {
   "cell_type": "code",
   "execution_count": 4,
   "metadata": {},
   "outputs": [],
   "source": [
    "line = '{\"usernameTweet\": \"Tom\", \"ID\": \"1176953905143590912\", \"text\": \"Cant agree more! RT:Masks + vaccines + boosters = best protection against #Omicron.When you wear a mask, you help protect yourself & others from #COVID19. Choose a mask with the best fit, protection, and comfort for you.\", \"url\": \"/CDCGOV/status/1176953905143590912\", \"nbr_retweet\": 26740, \"nbr_favorite\": 105089, \"nbr_reply\": 17181, \"datetime\": \"2022-01-14 16:17:32\", \"is_reply\": false, \"is_retweet\": true, \"retweet_user_id\": \"16460678\", \"retweet_username\": \"CDCGOV\"}'"
   ]
  },
  {
   "cell_type": "code",
   "execution_count": 6,
   "metadata": {},
   "outputs": [],
   "source": [
    "try:\n",
    "    result = re.search(r'\"usernameTweet\": \"(.*?)\", ', line)\n",
    "except:\n",
    "    result = None\n",
    "    \n",
    "try:\n",
    "    result2 = re.search(r'retweet_username\": \"(.*?)\"}', line)\n",
    "except:\n",
    "    result2 = None\n"
   ]
  },
  {
   "cell_type": "code",
   "execution_count": 7,
   "metadata": {},
   "outputs": [
    {
     "name": "stdout",
     "output_type": "stream",
     "text": [
      "['Tom', 'CDCGOV']\n"
     ]
    }
   ],
   "source": [
    "result_list = list([result.group(1),result2.group(1)])\n",
    "print(result_list)\n"
   ]
  },
  {
   "cell_type": "markdown",
   "metadata": {},
   "source": [
    "this is the info we need!"
   ]
  }
 ],
 "metadata": {
  "kernelspec": {
   "display_name": "Python 3",
   "language": "python",
   "name": "python3"
  },
  "language_info": {
   "codemirror_mode": {
    "name": "ipython",
    "version": 3
   },
   "file_extension": ".py",
   "mimetype": "text/x-python",
   "name": "python",
   "nbconvert_exporter": "python",
   "pygments_lexer": "ipython3",
   "version": "3.6.5"
  }
 },
 "nbformat": 4,
 "nbformat_minor": 2
}
